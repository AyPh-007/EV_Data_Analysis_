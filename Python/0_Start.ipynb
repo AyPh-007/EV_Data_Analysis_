{
 "cells": [
  {
   "cell_type": "code",
   "execution_count": 1,
   "id": "30a1e953",
   "metadata": {},
   "outputs": [
    {
     "name": "stdout",
     "output_type": "stream",
     "text": [
      "   VIN (1-10)    County     City State  Postal Code  Model Year     Make  \\\n",
      "0  5YJ3E1EBXK      King  Seattle    WA      98178.0        2019    TESLA   \n",
      "1  5YJYGDEE3L    Kitsap  Poulsbo    WA      98370.0        2020    TESLA   \n",
      "2  KM8KRDAF5P    Kitsap   Olalla    WA      98359.0        2023  HYUNDAI   \n",
      "3  5UXTA6C0XM    Kitsap  Seabeck    WA      98380.0        2021      BMW   \n",
      "4  JTMAB3FV7P  Thurston  Rainier    WA      98576.0        2023   TOYOTA   \n",
      "\n",
      "        Model                   Electric Vehicle Type  \\\n",
      "0     MODEL 3          Battery Electric Vehicle (BEV)   \n",
      "1     MODEL Y          Battery Electric Vehicle (BEV)   \n",
      "2     IONIQ 5          Battery Electric Vehicle (BEV)   \n",
      "3          X5  Plug-in Hybrid Electric Vehicle (PHEV)   \n",
      "4  RAV4 PRIME  Plug-in Hybrid Electric Vehicle (PHEV)   \n",
      "\n",
      "   Clean Alternative Fuel Vehicle (CAFV) Eligibility  Electric Range  \\\n",
      "0            Clean Alternative Fuel Vehicle Eligible           220.0   \n",
      "1            Clean Alternative Fuel Vehicle Eligible           291.0   \n",
      "2  Eligibility unknown as battery range has not b...             0.0   \n",
      "3            Clean Alternative Fuel Vehicle Eligible            30.0   \n",
      "4            Clean Alternative Fuel Vehicle Eligible            42.0   \n",
      "\n",
      "   Base MSRP  Legislative District  DOL Vehicle ID  \\\n",
      "0        0.0                  37.0       477309682   \n",
      "1        0.0                  23.0       109705683   \n",
      "2        0.0                  26.0       230390492   \n",
      "3        0.0                  35.0       267929112   \n",
      "4        0.0                   2.0       236505139   \n",
      "\n",
      "              Vehicle Location                              Electric Utility  \\\n",
      "0  POINT (-122.23825 47.49461)  CITY OF SEATTLE - (WA)|CITY OF TACOMA - (WA)   \n",
      "1  POINT (-122.64681 47.73689)                        PUGET SOUND ENERGY INC   \n",
      "2  POINT (-122.54729 47.42602)                        PUGET SOUND ENERGY INC   \n",
      "3  POINT (-122.81585 47.64509)                        PUGET SOUND ENERGY INC   \n",
      "4  POINT (-122.68993 46.88897)                        PUGET SOUND ENERGY INC   \n",
      "\n",
      "   2020 Census Tract  \n",
      "0       5.303301e+10  \n",
      "1       5.303509e+10  \n",
      "2       5.303509e+10  \n",
      "3       5.303509e+10  \n",
      "4       5.306701e+10  \n"
     ]
    }
   ],
   "source": [
    "import pandas as pd\n",
    "\n",
    "# Reads the CSV file and loads it into a DataFrame\n",
    "df = pd.read_csv(r'C:\\Users\\ADMIN\\Desktop\\EV_Data_Analysis\\CSV\\Electric_Vehicle_Population_Data.csv')\n",
    "\n",
    "# Show the first five rows\n",
    "print(df.head())"
   ]
  },
  {
   "cell_type": "code",
   "execution_count": 3,
   "id": "907537f5",
   "metadata": {},
   "outputs": [
    {
     "data": {
      "text/plain": [
       "(235692, 17)"
      ]
     },
     "execution_count": 3,
     "metadata": {},
     "output_type": "execute_result"
    }
   ],
   "source": [
    "# Returns the dimensions i.e., number of rows and columns\n",
    "df.shape "
   ]
  },
  {
   "cell_type": "code",
   "execution_count": 2,
   "id": "030381a2",
   "metadata": {},
   "outputs": [
    {
     "name": "stdout",
     "output_type": "stream",
     "text": [
      "<class 'pandas.core.frame.DataFrame'>\n",
      "RangeIndex: 235692 entries, 0 to 235691\n",
      "Data columns (total 17 columns):\n",
      " #   Column                                             Non-Null Count   Dtype  \n",
      "---  ------                                             --------------   -----  \n",
      " 0   VIN (1-10)                                         235692 non-null  object \n",
      " 1   County                                             235689 non-null  object \n",
      " 2   City                                               235689 non-null  object \n",
      " 3   State                                              235692 non-null  object \n",
      " 4   Postal Code                                        235689 non-null  float64\n",
      " 5   Model Year                                         235692 non-null  int64  \n",
      " 6   Make                                               235692 non-null  object \n",
      " 7   Model                                              235692 non-null  object \n",
      " 8   Electric Vehicle Type                              235692 non-null  object \n",
      " 9   Clean Alternative Fuel Vehicle (CAFV) Eligibility  235692 non-null  object \n",
      " 10  Electric Range                                     235656 non-null  float64\n",
      " 11  Base MSRP                                          235656 non-null  float64\n",
      " 12  Legislative District                               235198 non-null  float64\n",
      " 13  DOL Vehicle ID                                     235692 non-null  int64  \n",
      " 14  Vehicle Location                                   235682 non-null  object \n",
      " 15  Electric Utility                                   235689 non-null  object \n",
      " 16  2020 Census Tract                                  235689 non-null  float64\n",
      "dtypes: float64(5), int64(2), object(10)\n",
      "memory usage: 30.6+ MB\n"
     ]
    }
   ],
   "source": [
    "#Provides a summary including the index range, column names, non-null counts, and data types of each column.\n",
    "df.info()"
   ]
  },
  {
   "cell_type": "code",
   "execution_count": 4,
   "id": "bb0726a3",
   "metadata": {},
   "outputs": [
    {
     "data": {
      "text/plain": [
       "VIN (1-10)                                             0\n",
       "County                                                 3\n",
       "City                                                   3\n",
       "State                                                  0\n",
       "Postal Code                                            3\n",
       "Model Year                                             0\n",
       "Make                                                   0\n",
       "Model                                                  0\n",
       "Electric Vehicle Type                                  0\n",
       "Clean Alternative Fuel Vehicle (CAFV) Eligibility      0\n",
       "Electric Range                                        36\n",
       "Base MSRP                                             36\n",
       "Legislative District                                 494\n",
       "DOL Vehicle ID                                         0\n",
       "Vehicle Location                                      10\n",
       "Electric Utility                                       3\n",
       "2020 Census Tract                                      3\n",
       "dtype: int64"
      ]
     },
     "execution_count": 4,
     "metadata": {},
     "output_type": "execute_result"
    }
   ],
   "source": [
    "# It returns the total count of null values per column.\n",
    "df.isnull().sum()"
   ]
  }
 ],
 "metadata": {
  "kernelspec": {
   "display_name": "ENVNAME",
   "language": "python",
   "name": "python3"
  },
  "language_info": {
   "codemirror_mode": {
    "name": "ipython",
    "version": 3
   },
   "file_extension": ".py",
   "mimetype": "text/x-python",
   "name": "python",
   "nbconvert_exporter": "python",
   "pygments_lexer": "ipython3",
   "version": "3.11.11"
  }
 },
 "nbformat": 4,
 "nbformat_minor": 5
}
